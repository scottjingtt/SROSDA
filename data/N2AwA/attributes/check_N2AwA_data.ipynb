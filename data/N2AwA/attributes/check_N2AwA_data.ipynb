{
 "cells": [
  {
   "cell_type": "code",
   "execution_count": 1,
   "metadata": {},
   "outputs": [],
   "source": [
    "import torch.nn.functional as F\n",
    "import torch\n",
    "import pandas as pd\n",
    "import numpy as np\n",
    "import matplotlib.pyplot as plt\n",
    "import scipy.linalg\n",
    "from scipy import io\n",
    "\n",
    "import argparse\n",
    "import os\n",
    "import math\n",
    "\n",
    "from sklearn.metrics.pairwise import cosine_similarity\n",
    "from sklearn.metrics.pairwise import euclidean_distances\n",
    "from sklearn.metrics import confusion_matrix, classification_report, accuracy_score\n",
    "from scipy.spatial.distance import cdist, pdist, squareform\n",
    "from sklearn.preprocessing import normalize\n",
    "from sklearn.cluster import KMeans\n",
    "from sklearn.neighbors import KNeighborsClassifier"
   ]
  },
  {
   "cell_type": "code",
   "execution_count": 8,
   "metadata": {},
   "outputs": [],
   "source": [
    "att10 = pd.read_csv('../attributes/attributes_bi10.csv', header=None,index_col=None).values\n",
    "att = pd.read_csv('../attributes/attributes_bi.csv', header=None,index_col=None).values"
   ]
  },
  {
   "cell_type": "markdown",
   "metadata": {},
   "source": [
    "### Generate attributes for target and source groundtruth"
   ]
  },
  {
   "cell_type": "code",
   "execution_count": 27,
   "metadata": {},
   "outputs": [
    {
     "name": "stdout",
     "output_type": "stream",
     "text": [
      "AwA (9343,)\n",
      "clipart (1054,)\n",
      "infograph (1352,)\n",
      "painting (3441,)\n",
      "quickdraw (5000,)\n",
      "real (5251,)\n"
     ]
    }
   ],
   "source": [
    "subdomain = ['AwA', 'clipart', 'infograph', 'painting', 'quickdraw', 'real', 'sketch']\n",
    "class_num = 17\n",
    "for i in range(7):\n",
    "    src = subdomain[i]\n",
    "    ys = pd.read_csv('../features/'+src+'10_labels.csv', header=None, index_col=None)[0].values\n",
    "    print(src, ys.shape)\n",
    "    att_s = np.zeros((len(ys), 85))\n",
    "    for i in range(len(ys)):\n",
    "        yi = ys[i]\n",
    "        ai = att10[yi,:]\n",
    "        att_s[i,:] = ai\n",
    "    s_file = src+'10_att_bi.csv'\n",
    "    pd.DataFrame(att_s).to_csv(s_file, index=None)"
   ]
  },
  {
   "cell_type": "code",
   "execution_count": 30,
   "metadata": {},
   "outputs": [
    {
     "name": "stdout",
     "output_type": "stream",
     "text": [
      "AwA (16306,)\n",
      "clipart (2327,)\n",
      "infograph (2409,)\n",
      "painting (5760,)\n",
      "quickdraw (8500,)\n",
      "real (10047,)\n"
     ]
    }
   ],
   "source": [
    "subdomain = ['AwA', 'clipart', 'infograph', 'painting', 'quickdraw', 'real', 'sketch']\n",
    "class_num = 17\n",
    "for i in range(7):\n",
    "    tgt = subdomain[i]\n",
    "    yt = pd.read_csv('../features/'+tgt+'_labels.csv', header=None, index_col=None)[0].values\n",
    "    print(tgt, yt.shape)\n",
    "    att_t = np.zeros((len(yt), 85))\n",
    "    for i in range(len(yt)):\n",
    "        yi = yt[i]\n",
    "        ai = att[yi,:]\n",
    "        att_t[i,:] = ai\n",
    "    t_file = tgt+'_att_bi.csv'\n",
    "    pd.DataFrame(att_t).to_csv(t_file, index=None)"
   ]
  }
 ],
 "metadata": {
  "kernelspec": {
   "display_name": "Python 3",
   "language": "python",
   "name": "python3"
  },
  "language_info": {
   "codemirror_mode": {
    "name": "ipython",
    "version": 3
   },
   "file_extension": ".py",
   "mimetype": "text/x-python",
   "name": "python",
   "nbconvert_exporter": "python",
   "pygments_lexer": "ipython3",
   "version": "3.8.8"
  }
 },
 "nbformat": 4,
 "nbformat_minor": 2
}
