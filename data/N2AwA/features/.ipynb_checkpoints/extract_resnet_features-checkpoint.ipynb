{
 "cells": [
  {
   "cell_type": "code",
   "execution_count": null,
   "metadata": {},
   "outputs": [],
   "source": [
    "import pandas as pd\n",
    "import numpy as np\n",
    "import torchvision.models as models\n",
    "import torch.nn as nn\n",
    "import os\n",
    "import torch\n",
    "import torchvision.transforms as transforms\n",
    "from torch.autograd import Variable\n",
    "from PIL import Image"
   ]
  },
  {
   "cell_type": "markdown",
   "metadata": {},
   "source": [
    "## Load images"
   ]
  },
  {
   "cell_type": "code",
   "execution_count": null,
   "metadata": {},
   "outputs": [],
   "source": [
    "img_path = './'\n",
    "feature_path = '../features/'"
   ]
  },
  {
   "cell_type": "code",
   "execution_count": null,
   "metadata": {
    "scrolled": true
   },
   "outputs": [],
   "source": [
    "domains = ['clipart', 'infograph','painting','quickdraw','real','sketch']\n",
    "classes = []"
   ]
  },
  {
   "cell_type": "code",
   "execution_count": null,
   "metadata": {},
   "outputs": [],
   "source": [
    "with open(domains[0]+'_test.txt','r')as file:\n",
    "    img_name, label = file.readline().split()\n",
    "    print(file.readline().split())\n",
    "    img = Image.open(img_name).convert('RGB')"
   ]
  },
  {
   "cell_type": "markdown",
   "metadata": {},
   "source": [
    "## Extract Res-Net features"
   ]
  },
  {
   "cell_type": "code",
   "execution_count": null,
   "metadata": {},
   "outputs": [],
   "source": [
    "def res_feature(img,pretrained_model='resnet50',feature_layer='avgpool',use_gpu=False):\n",
    "    model = None\n",
    "    # Check image is not None\n",
    "    if img is None:\n",
    "        prin(\"No input image!\")\n",
    "        return\n",
    "    # Get model\n",
    "    if pretrained_model == 'resnet50':\n",
    "        model = models.resnet50(pretrained=True)\n",
    "    elif pretrained_model == 'resnet101':\n",
    "        model = models.resnet101(pretrained=True)\n",
    "    elif pretrained_model == 'resnet152':\n",
    "        model = models.resnet152(pretrained=True)\n",
    "    else:\n",
    "        print(\"None model input\")\n",
    "        return\n",
    "    # Get feature layer\n",
    "    for param in model.parameters():\n",
    "        param.requires_grad = False\n",
    "    conv = nn.Sequential(*list(model.children())[:-1])\n",
    "    conv.eval()\n",
    "    \n",
    "    # pre-processing image\n",
    "    scaler = transforms.Resize((224,224))\n",
    "    normalize = transforms.Normalize(mean=[0.485, 0.456, 0.406], std=[0.229, 0.224, 0.225])\n",
    "    to_tensor = transforms.ToTensor()\n",
    "    \n",
    "    img_norm = Variable(normalize(to_tensor(scaler(img))).unsqueeze(0))\n",
    "    if use_gpu:\n",
    "        img_norm = img_norm.cuda()\n",
    "        conv = conv.cuda()\n",
    "    \n",
    "    feature = conv(img_norm)   \n",
    "    feature = np.array(feature.cpu().detach().numpy()).reshape((1,-1))\n",
    "    return feature"
   ]
  },
  {
   "cell_type": "code",
   "execution_count": null,
   "metadata": {
    "scrolled": true
   },
   "outputs": [],
   "source": [
    "model_type='resnet50'\n",
    "img_path = './'\n",
    "feature_path = '../features/'+model_type+'/'\n",
    "domains = domains = ['painting', 'real'] #'clipart', 'infograph','quickdraw','sketch']\n",
    "use_gpu = torch.cuda.is_available()\n",
    "for domain in domains:\n",
    "    for s in ['train','test']:\n",
    "        if domain != 'clipart' or s != 'train':\n",
    "            continue\n",
    "        feats = np.array([])\n",
    "        labels = np.array([])\n",
    "        print('Processing domain & set: ', domain,s)\n",
    "        file_name = domain+'_'+s+'.txt'\n",
    "        with open(file_name,'r') as file:\n",
    "            i = 0\n",
    "            for line in file.readlines():\n",
    "                i = i+1\n",
    "                try:\n",
    "                    if len(line) < 10:\n",
    "                        continue\n",
    "                        print(\"Empty: \", line)\n",
    "                    img_path, label = line.split()\n",
    "                    if i %1000 == 0:\n",
    "                        print('Extract class: ', label, ' Line: ', i)\n",
    "                    img = Image.open(img_path).convert('RGB')\n",
    "                    feature = res_feature(img,pretrained_model=model_type, use_gpu = use_gpu)\n",
    "                    feats = np.append(feats, feature)\n",
    "                    labels = np.append(labels, label)\n",
    "                except:\n",
    "                    print(\"!!!!!!!!!!!!!!!!!!!!!!!!!!!!! Exception !!!!!!!!!!!!!!!!    \", label, '   Line', i)\n",
    "        feats = feats.reshape((-1,2048))\n",
    "        labels = labels.reshape((-1,1)).astype(int)\n",
    "        # save to csv file\n",
    "        print('Saving to ', domain+'_'+s+'_'+model_type+'_feats.csv ...')\n",
    "        output_feats_file = feature_path + domain+'_'+s+'_'+model_type+'_feats.csv'\n",
    "        output_labels_file = feature_path + domain+'_'+s+'_'+model_type+'_labels.csv'\n",
    "        res_feats = pd.DataFrame(feats)\n",
    "        res_labels = pd.DataFrame(labels)\n",
    "        res_feats.to_csv(output_feats_file,index=False,header=False)\n",
    "        res_labels.to_csv(output_labels_file,index=False,header=False)"
   ]
  },
  {
   "cell_type": "code",
   "execution_count": null,
   "metadata": {},
   "outputs": [],
   "source": [
    "print('Saving to ', domain+'_'+s+'_'+model_type+'_feats.csv ...')\n",
    "output_feats_file = feature_path + domain+'_'+s+'_'+model_type+'_feats.csv'\n",
    "output_labels_file = feature_path + domain+'_'+s+'_'+model_type+'_labels.csv'\n",
    "res_feats = pd.DataFrame(feats)\n",
    "res_labels = pd.DataFrame(labels)\n",
    "res_feats.to_csv(output_feats_file,index=False,header=False)\n",
    "res_labels.to_csv(output_labels_file,index=False,header=False)"
   ]
  },
  {
   "cell_type": "code",
   "execution_count": null,
   "metadata": {},
   "outputs": [],
   "source": []
  },
  {
   "cell_type": "code",
   "execution_count": null,
   "metadata": {},
   "outputs": [],
   "source": []
  }
 ],
 "metadata": {
  "kernelspec": {
   "display_name": "Python 3",
   "language": "python",
   "name": "python3"
  },
  "language_info": {
   "codemirror_mode": {
    "name": "ipython",
    "version": 3
   },
   "file_extension": ".py",
   "mimetype": "text/x-python",
   "name": "python",
   "nbconvert_exporter": "python",
   "pygments_lexer": "ipython3",
   "version": "3.8.8"
  }
 },
 "nbformat": 4,
 "nbformat_minor": 2
}
