{
 "cells": [
  {
   "cell_type": "code",
   "execution_count": 1,
   "metadata": {},
   "outputs": [],
   "source": [
    "import pandas as pd\n",
    "import numpy as np\n",
    "import torchvision.models as models\n",
    "import torch.nn as nn\n",
    "import os\n",
    "import torch\n",
    "import torchvision.transforms as transforms\n",
    "from torch.autograd import Variable\n",
    "from PIL import Image"
   ]
  },
  {
   "cell_type": "markdown",
   "metadata": {},
   "source": [
    "## Load images"
   ]
  },
  {
   "cell_type": "code",
   "execution_count": 2,
   "metadata": {},
   "outputs": [],
   "source": [
    "img_path = './images/'\n",
    "feature_path = './features/'"
   ]
  },
  {
   "cell_type": "code",
   "execution_count": 3,
   "metadata": {
    "scrolled": true
   },
   "outputs": [],
   "source": [
    "classes = []"
   ]
  },
  {
   "cell_type": "code",
   "execution_count": 4,
   "metadata": {},
   "outputs": [],
   "source": [
    "classes = os.listdir(img_path)\n",
    "classes = sorted(classes)"
   ]
  },
  {
   "cell_type": "code",
   "execution_count": 5,
   "metadata": {
    "scrolled": true
   },
   "outputs": [
    {
     "data": {
      "text/plain": [
       "['antelope',\n",
       " 'bat',\n",
       " 'beaver',\n",
       " 'blue+whale',\n",
       " 'bobcat',\n",
       " 'buffalo',\n",
       " 'chihuahua',\n",
       " 'chimpanzee',\n",
       " 'collie',\n",
       " 'cow',\n",
       " 'dalmatian',\n",
       " 'deer',\n",
       " 'dolphin',\n",
       " 'elephant',\n",
       " 'fox',\n",
       " 'german+shepherd',\n",
       " 'giant+panda',\n",
       " 'giraffe',\n",
       " 'gorilla',\n",
       " 'grizzly+bear',\n",
       " 'hamster',\n",
       " 'hippopotamus',\n",
       " 'horse',\n",
       " 'humpback+whale',\n",
       " 'killer+whale',\n",
       " 'leopard',\n",
       " 'lion',\n",
       " 'mole',\n",
       " 'moose',\n",
       " 'mouse',\n",
       " 'otter',\n",
       " 'ox',\n",
       " 'persian+cat',\n",
       " 'pig',\n",
       " 'polar+bear',\n",
       " 'rabbit',\n",
       " 'raccoon',\n",
       " 'rat',\n",
       " 'rhinoceros',\n",
       " 'seal',\n",
       " 'sheep',\n",
       " 'siamese+cat',\n",
       " 'skunk',\n",
       " 'spider+monkey',\n",
       " 'squirrel',\n",
       " 'tiger',\n",
       " 'walrus',\n",
       " 'weasel',\n",
       " 'wolf',\n",
       " 'zebra']"
      ]
     },
     "execution_count": 5,
     "metadata": {},
     "output_type": "execute_result"
    }
   ],
   "source": [
    "classes # Load classes for specific task"
   ]
  },
  {
   "cell_type": "markdown",
   "metadata": {},
   "source": [
    "## Extract Res-Net features"
   ]
  },
  {
   "cell_type": "code",
   "execution_count": 6,
   "metadata": {},
   "outputs": [],
   "source": [
    "def res_feature(img,pretrained_model='resnet50',feature_layer='avgpool',use_gpu=False):\n",
    "    model = None\n",
    "    # Check image is not None\n",
    "    if img is None:\n",
    "        prin(\"No input image!\")\n",
    "        return\n",
    "    # Get model\n",
    "    if pretrained_model == 'resnet50':\n",
    "        model = models.resnet50(pretrained=True)\n",
    "    elif pretrained_model == 'resnet101':\n",
    "        model = models.resnet101(pretrained=True)\n",
    "    elif pretrained_model == 'resnet152':\n",
    "        model = models.resnet152(pretrained=True)\n",
    "    else:\n",
    "        print(\"None model input\")\n",
    "        return\n",
    "    # Get feature layer\n",
    "    for param in model.parameters():\n",
    "        param.requires_grad = False\n",
    "    conv = nn.Sequential(*list(model.children())[:-1])\n",
    "    conv.eval()\n",
    "    \n",
    "    # pre-processing image\n",
    "    scaler = transforms.Resize((224,224))\n",
    "    normalize = transforms.Normalize(mean=[0.485, 0.456, 0.406], std=[0.229, 0.224, 0.225])\n",
    "    to_tensor = transforms.ToTensor()\n",
    "    \n",
    "    img_norm = Variable(normalize(to_tensor(scaler(img))).unsqueeze(0))\n",
    "    if use_gpu:\n",
    "        img_norm = img_norm.cuda()\n",
    "        conv = conv.cuda()\n",
    "    \n",
    "    feature = conv(img_norm)   \n",
    "    feature = np.array(feature.cpu().detach().numpy()).reshape((1,-1))\n",
    "    return feature"
   ]
  },
  {
   "cell_type": "code",
   "execution_count": 7,
   "metadata": {
    "scrolled": true
   },
   "outputs": [
    {
     "name": "stdout",
     "output_type": "stream",
     "text": [
      "Processing class:  antelope label:  0\n",
      "Processing class:  bat label:  1\n",
      "Processing class:  beaver label:  2\n",
      "Processing class:  blue+whale label:  3\n",
      "Processing class:  bobcat label:  4\n",
      "Processing class:  buffalo label:  5\n",
      "Processing class:  chihuahua label:  6\n",
      "Processing class:  chimpanzee label:  7\n",
      "Processing class:  collie label:  8\n",
      "Processing class:  cow label:  9\n",
      "Processing class:  dalmatian label:  10\n",
      "Processing class:  deer label:  11\n",
      "Processing class:  dolphin label:  12\n",
      "Processing class:  elephant label:  13\n",
      "Processing class:  fox label:  14\n",
      "Processing class:  german+shepherd label:  15\n",
      "Processing class:  giant+panda label:  16\n",
      "Processing class:  giraffe label:  17\n",
      "Processing class:  gorilla label:  18\n",
      "Processing class:  grizzly+bear label:  19\n",
      "Processing class:  hamster label:  20\n",
      "Processing class:  hippopotamus label:  21\n",
      "Processing class:  horse label:  22\n",
      "Processing class:  humpback+whale label:  23\n",
      "Processing class:  killer+whale label:  24\n",
      "Processing class:  leopard label:  25\n",
      "Processing class:  lion label:  26\n",
      "Processing class:  mole label:  27\n",
      "Processing class:  moose label:  28\n",
      "Processing class:  mouse label:  29\n",
      "Processing class:  otter label:  30\n",
      "Processing class:  ox label:  31\n",
      "Processing class:  persian+cat label:  32\n",
      "Processing class:  pig label:  33\n",
      "Processing class:  polar+bear label:  34\n",
      "Processing class:  rabbit label:  35\n",
      "Processing class:  raccoon label:  36\n",
      "Processing class:  rat label:  37\n",
      "Processing class:  rhinoceros label:  38\n",
      "Processing class:  seal label:  39\n",
      "Processing class:  sheep label:  40\n",
      "Processing class:  siamese+cat label:  41\n",
      "Processing class:  skunk label:  42\n",
      "Processing class:  spider+monkey label:  43\n",
      "Processing class:  squirrel label:  44\n",
      "Processing class:  tiger label:  45\n",
      "Processing class:  walrus label:  46\n",
      "Processing class:  weasel label:  47\n",
      "Processing class:  wolf label:  48\n",
      "Processing class:  zebra label:  49\n",
      "Saving to  resnet50_feats.csv ...\n"
     ]
    }
   ],
   "source": [
    "model_type='resnet50'\n",
    "img_path = './images/'\n",
    "feature_path = './features/'+model_type+'/'\n",
    "# domains = domains = ['clipart', 'infograph','painting','quickdraw','real','sketch']\n",
    "#     classes = ['back_pack','bike','calculator','headphones','keyboard','laptop_computer','monitor','mouse','mug','projector']\n",
    "use_gpu = torch.cuda.is_available()\n",
    "# for domain in domains:\n",
    "#     for s in ['train','test']:\n",
    "#         if domain != 'clipart' or s != 'train':\n",
    "#             continue\n",
    "feats = np.array([])\n",
    "labels = np.array([])\n",
    "info = np.array([])\n",
    "classes = os.listdir(img_path)\n",
    "classes = sorted(classes)\n",
    "\n",
    "i = 0\n",
    "\n",
    "for c in range(len(classes)):\n",
    "    label = c\n",
    "    class_name = classes[c]\n",
    "    print('Processing class: ', class_name, 'label: ', c)\n",
    "    class_path = img_path + '/' + class_name\n",
    "    files = os.listdir(class_path)\n",
    "#     files = sorted(files)\n",
    "    for f in range(len(files)):\n",
    "        file_name = files[f]\n",
    "        img_dir = class_path + '/' +file_name \n",
    "        try:\n",
    "            img = Image.open(img_dir).convert('RGB')\n",
    "            feature = res_feature(img,pretrained_model=model_type, use_gpu = use_gpu)\n",
    "            feats = np.append(feats, feature)\n",
    "            labels = np.append(labels, label)\n",
    "            info = np.append(info, img_dir)\n",
    "            \n",
    "        except:\n",
    "            print(\"!!!!!! Exception !!!!!!! Class: \", class_name, ' sample: ', img_dir)\n",
    "feats = feats.reshape((-1,2048))\n",
    "labels = labels.reshape((-1,1)).astype(int)\n",
    "info = info.reshape((-1,1))\n",
    "# save to csv file\n",
    "print('Saving to ', model_type +'_feats.csv ...')\n",
    "output_feats_file = feature_path + '/AwA2_' + model_type +'_feats.csv'\n",
    "output_labels_file = feature_path + '/AwA2_' + model_type +'_labels.csv'\n",
    "output_info_file = feature_path +'/AwA2_'+ model_type + '_info.csv'\n",
    "res_feats = pd.DataFrame(feats)\n",
    "res_labels = pd.DataFrame(labels)\n",
    "res_info = pd.DataFrame(info)\n",
    "res_feats.to_csv(output_feats_file,index=False,header=False)\n",
    "res_labels.to_csv(output_labels_file,index=False,header=False)\n",
    "res_info.to_csv(output_info_file,index=False,header=False)"
   ]
  },
  {
   "cell_type": "code",
   "execution_count": null,
   "metadata": {},
   "outputs": [],
   "source": []
  },
  {
   "cell_type": "code",
   "execution_count": null,
   "metadata": {},
   "outputs": [],
   "source": []
  }
 ],
 "metadata": {
  "kernelspec": {
   "display_name": "Python 3",
   "language": "python",
   "name": "python3"
  },
  "language_info": {
   "codemirror_mode": {
    "name": "ipython",
    "version": 3
   },
   "file_extension": ".py",
   "mimetype": "text/x-python",
   "name": "python",
   "nbconvert_exporter": "python",
   "pygments_lexer": "ipython3",
   "version": "3.8.8"
  }
 },
 "nbformat": 4,
 "nbformat_minor": 2
}
