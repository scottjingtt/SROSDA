{
 "cells": [
  {
   "cell_type": "code",
   "execution_count": null,
   "metadata": {},
   "outputs": [],
   "source": [
    "'''\n",
    "This script is used to init the clustering/class centers and predict pseudo labels&attributes to the target data\n",
    "'''"
   ]
  },
  {
   "cell_type": "code",
   "execution_count": 57,
   "metadata": {},
   "outputs": [],
   "source": [
    "import torch.nn.functional as F\n",
    "import torch\n",
    "import pandas as pd\n",
    "import numpy as np\n",
    "import matplotlib.pyplot as plt\n",
    "from sklearn.metrics import confusion_matrix, classification_report, accuracy_score\n",
    "from sklearn.cluster import KMeans"
   ]
  },
  {
   "cell_type": "markdown",
   "metadata": {},
   "source": [
    "## (0) Load data (ResNet features, Labels, Attributes)"
   ]
  },
  {
   "cell_type": "code",
   "execution_count": 58,
   "metadata": {
    "scrolled": true
   },
   "outputs": [],
   "source": [
    "att10 = pd.read_csv('./attributes_bi10.csv', header=None,index_col=None) # Attributes of the shared 10 categories\n",
    "att = pd.read_csv('./attributes_bi.csv', header=None,index_col=None)"
   ]
  },
  {
   "cell_type": "code",
   "execution_count": 59,
   "metadata": {},
   "outputs": [
    {
     "data": {
      "text/plain": [
       "(17, 85)"
      ]
     },
     "execution_count": 59,
     "metadata": {},
     "output_type": "execute_result"
    }
   ],
   "source": [
    "att.shape"
   ]
  },
  {
   "cell_type": "code",
   "execution_count": 60,
   "metadata": {},
   "outputs": [
    {
     "name": "stdout",
     "output_type": "stream",
     "text": [
      "AwA (9343, 2048) --> real (10047, 2048)\n"
     ]
    }
   ],
   "source": [
    "subdomain = ['AwA', 'painting', 'real'] #, 'clipart', 'infograph', 'quickdraw', 'sketch']\n",
    "class_num = 17\n",
    "src = subdomain[0]\n",
    "tgt = subdomain[2]\n",
    "# ImageNet pre-trained ResNet-50 Features\n",
    "xs = pd.read_csv('./'+src+'10_feats.csv', header=None, index_col=None)\n",
    "ys = pd.read_csv('./'+src+'10_labels.csv', header=None, index_col=None)\n",
    "xt = pd.read_csv('./'+tgt+'_feats.csv', header=None, index_col=None)\n",
    "yt = pd.read_csv('./'+tgt+'_labels.csv', header=None, index_col=None)\n",
    "print(src, xs.shape, '-->', tgt, xt.shape)"
   ]
  },
  {
   "cell_type": "code",
   "execution_count": 61,
   "metadata": {},
   "outputs": [],
   "source": [
    "Xs = xs.values\n",
    "Ys = ys[0].values\n",
    "Xt = xt.values\n",
    "Yt = yt[0].values"
   ]
  },
  {
   "cell_type": "code",
   "execution_count": 62,
   "metadata": {},
   "outputs": [
    {
     "data": {
      "text/plain": [
       "array([0, 1, 2, 3, 4, 5, 6, 7, 8, 9])"
      ]
     },
     "execution_count": 62,
     "metadata": {},
     "output_type": "execute_result"
    }
   ],
   "source": [
    "np.unique(Ys)"
   ]
  },
  {
   "cell_type": "code",
   "execution_count": 63,
   "metadata": {},
   "outputs": [],
   "source": [
    "# Get the source domain class prototypes by groundtruth\n",
    "Prot_Xs = np.zeros((10, 2048))\n",
    "n_s = np.zeros(10)\n",
    "for i in range(len(Xs)):\n",
    "    xi = Xs[i,:]\n",
    "    yi = Ys[i]\n",
    "    Prot_Xs[yi,:] += xi\n",
    "    n_s[yi] += 1\n",
    "Prot_Xs /= n_s.reshape(-1,1)"
   ]
  },
  {
   "cell_type": "code",
   "execution_count": 64,
   "metadata": {},
   "outputs": [],
   "source": [
    "# Ground-truth class centers of target domain, NOT SAVED, for evaluation\n",
    "Prot_Xt = np.zeros((17, 2048))\n",
    "n_t = np.zeros(17)\n",
    "for i in range(len(Xt)):\n",
    "    xi = Xt[i,:]\n",
    "    yi = Yt[i]\n",
    "    Prot_Xt[yi,:] += xi\n",
    "    n_t[yi] += 1\n",
    "Prot_Xt /= n_t.reshape(-1,1)\n",
    "true_Prot_Xt = Prot_Xt"
   ]
  },
  {
   "cell_type": "code",
   "execution_count": 65,
   "metadata": {},
   "outputs": [],
   "source": [
    "cuda = True if torch.cuda.is_available() else False\n",
    "device = torch.device(\"cuda:0\" if cuda else \"cpu\")\n",
    "FloatTensor = torch.cuda.FloatTensor if cuda else torch.FloatTensor\n",
    "LongTensor = torch.cuda.LongTensor if cuda else torch.LongTensor"
   ]
  },
  {
   "cell_type": "markdown",
   "metadata": {},
   "source": [
    "## 1. Classify Target Samples based on the Source Prototypes/ClassCenters"
   ]
  },
  {
   "cell_type": "code",
   "execution_count": 66,
   "metadata": {},
   "outputs": [],
   "source": [
    "# Classification based on the distance of same to the class/clustering centers\n",
    "def classify(z,c,dist='cosine',T=1):\n",
    "    eps = 1e-5\n",
    "    if dist == 'cosine':\n",
    "        norm = torch.mm(torch.norm(z, p=2, dim=1).unsqueeze(1), torch.norm(c, p=2, dim=1).unsqueeze(0))\n",
    "        sim = torch.mm(z, c.t()) / torch.max(norm, eps * torch.ones_like(norm))\n",
    "    elif dist == 'euclidean':\n",
    "        dist_map = torch.cdist(z, c, p=2)\n",
    "        sim = 1 - dist_map\n",
    "    else:\n",
    "        raise ValueError(\"dist does not exist!\")\n",
    "    prob = F.softmax(sim / T, dim=1)\n",
    "    y_prob, y_pred = torch.max(prob, dim=1)\n",
    "    return prob, y_prob, y_pred"
   ]
  },
  {
   "cell_type": "code",
   "execution_count": 67,
   "metadata": {},
   "outputs": [],
   "source": [
    "cs = torch.Tensor(Prot_Xs).type(FloatTensor)\n",
    "z =torch.Tensor(Xt).type(FloatTensor)\n",
    "t_prob, yt_prob, yt_pred = classify(z, cs, dist='cosine', T=1)"
   ]
  },
  {
   "cell_type": "code",
   "execution_count": 68,
   "metadata": {},
   "outputs": [
    {
     "data": {
      "text/plain": [
       "tensor(0.1126, device='cuda:0')"
      ]
     },
     "execution_count": 68,
     "metadata": {},
     "output_type": "execute_result"
    }
   ],
   "source": [
    "yt_prob.mean() # Use the mean of prediction as a threshold to split the prediction of the target data (high/low confidence)"
   ]
  },
  {
   "cell_type": "code",
   "execution_count": 69,
   "metadata": {},
   "outputs": [],
   "source": [
    "th = yt_prob.mean().item() # 0.11, the threshold influence the seen/unseen split of target data"
   ]
  },
  {
   "cell_type": "code",
   "execution_count": 70,
   "metadata": {},
   "outputs": [
    {
     "data": {
      "text/plain": [
       "<BarContainer object of 17 artists>"
      ]
     },
     "execution_count": 70,
     "metadata": {},
     "output_type": "execute_result"
    },
    {
     "data": {
      "image/png": "[encoded data removed]",
      "text/plain": [
       "<Figure size 432x288 with 1 Axes>"
      ]
     },
     "metadata": {
      "needs_background": "light"
     },
     "output_type": "display_data"
    }
   ],
   "source": [
    "# Viusalize teh distribution of ground-truth categories of samples with low-confidence predictions\n",
    "low_conf_inds= yt_prob.detach().cpu().numpy() < th\n",
    "x, h = np.unique(Yt[low_conf_inds], return_counts=True)\n",
    "plt.bar(x, h)"
   ]
  },
  {
   "cell_type": "code",
   "execution_count": 71,
   "metadata": {
    "scrolled": true
   },
   "outputs": [
    {
     "name": "stdout",
     "output_type": "stream",
     "text": [
      "class:  0  cnt:  201\n",
      "class:  1  cnt:  204\n",
      "class:  2  cnt:  63\n",
      "class:  3  cnt:  192\n",
      "class:  4  cnt:  173\n",
      "class:  5  cnt:  226\n",
      "class:  6  cnt:  132\n",
      "class:  7  cnt:  43\n",
      "class:  8  cnt:  251\n",
      "class:  9  cnt:  315\n",
      "class:  10  cnt:  447\n",
      "class:  11  cnt:  659\n",
      "class:  12  cnt:  637\n",
      "class:  13  cnt:  726\n",
      "class:  14  cnt:  218\n",
      "class:  15  cnt:  589\n",
      "class:  16  cnt:  586\n"
     ]
    }
   ],
   "source": [
    "for i in range(len(x)):\n",
    "    print(\"class: \", x[i], \" cnt: \", h[i])"
   ]
  },
  {
   "cell_type": "code",
   "execution_count": 72,
   "metadata": {},
   "outputs": [
    {
     "data": {
      "text/plain": [
       "5662"
      ]
     },
     "execution_count": 72,
     "metadata": {},
     "output_type": "execute_result"
    }
   ],
   "source": [
    "h.sum()"
   ]
  },
  {
   "cell_type": "code",
   "execution_count": 73,
   "metadata": {},
   "outputs": [
    {
     "data": {
      "text/plain": [
       "<BarContainer object of 17 artists>"
      ]
     },
     "execution_count": 73,
     "metadata": {},
     "output_type": "execute_result"
    },
    {
     "data": {
      "image/png": "[encoded data removed]",
      "text/plain": [
       "<Figure size 432x288 with 1 Axes>"
      ]
     },
     "metadata": {
      "needs_background": "light"
     },
     "output_type": "display_data"
    }
   ],
   "source": [
    "# Viusalize teh distribution of ground-truth categories of samples with high-confidence predictions\n",
    "high_conf_inds= yt_prob.detach().cpu().numpy() > th\n",
    "x, h = np.unique(Yt[high_conf_inds], return_counts=True)\n",
    "plt.bar(x, h)"
   ]
  },
  {
   "cell_type": "code",
   "execution_count": 74,
   "metadata": {},
   "outputs": [
    {
     "name": "stdout",
     "output_type": "stream",
     "text": [
      "class:  0  cnt:  159\n",
      "class:  1  cnt:  333\n",
      "class:  2  cnt:  516\n",
      "class:  3  cnt:  591\n",
      "class:  4  cnt:  418\n",
      "class:  5  cnt:  369\n",
      "class:  6  cnt:  384\n",
      "class:  7  cnt:  91\n",
      "class:  8  cnt:  332\n",
      "class:  9  cnt:  258\n",
      "class:  10  cnt:  243\n",
      "class:  11  cnt:  16\n",
      "class:  12  cnt:  45\n",
      "class:  13  cnt:  68\n",
      "class:  14  cnt:  475\n",
      "class:  15  cnt:  4\n",
      "class:  16  cnt:  83\n"
     ]
    }
   ],
   "source": [
    "for i in range(len(x)):\n",
    "    print(\"class: \", x[i], \" cnt: \", h[i])"
   ]
  },
  {
   "cell_type": "code",
   "execution_count": 75,
   "metadata": {},
   "outputs": [
    {
     "data": {
      "text/plain": [
       "<BarContainer object of 10 artists>"
      ]
     },
     "execution_count": 75,
     "metadata": {},
     "output_type": "execute_result"
    },
    {
     "data": {
      "image/png": "[encoded data removed]",
      "text/plain": [
       "<Figure size 432x288 with 1 Axes>"
      ]
     },
     "metadata": {
      "needs_background": "light"
     },
     "output_type": "display_data"
    }
   ],
   "source": [
    "# Visualize the distribution of the high confidence predictions\n",
    "x, h = np.unique(yt_pred.cpu().numpy()[high_conf_inds], return_counts=True)\n",
    "plt.bar(x, h)"
   ]
  },
  {
   "cell_type": "code",
   "execution_count": 90,
   "metadata": {},
   "outputs": [],
   "source": [
    "# Open-set evaluation\n",
    "bi_y = np.copy(Yt)\n",
    "bi_y[bi_y >= 10] = 10\n",
    "bi_pred = yt_pred.cpu().numpy()\n",
    "bi_pred[low_conf_inds] = 10"
   ]
  },
  {
   "cell_type": "code",
   "execution_count": 91,
   "metadata": {},
   "outputs": [
    {
     "name": "stdout",
     "output_type": "stream",
     "text": [
      "0.6494001142639497\n"
     ]
    }
   ],
   "source": [
    "print(accuracy_score(bi_y[bi_y < 10],bi_pred[bi_y < 10] ))"
   ]
  },
  {
   "cell_type": "code",
   "execution_count": 96,
   "metadata": {},
   "outputs": [
    {
     "name": "stdout",
     "output_type": "stream",
     "text": [
      "0.8052543786488741\n"
     ]
    }
   ],
   "source": [
    "print(accuracy_score(bi_y[bi_y >= 10],bi_pred[bi_y >= 10] ))"
   ]
  },
  {
   "cell_type": "code",
   "execution_count": 97,
   "metadata": {
    "scrolled": true
   },
   "outputs": [
    {
     "name": "stdout",
     "output_type": "stream",
     "text": [
      "              precision    recall  f1-score   support\n",
      "\n",
      "           0       0.91      0.41      0.57       360\n",
      "           1       0.81      0.60      0.69       537\n",
      "           2       0.99      0.89      0.94       579\n",
      "           3       0.94      0.75      0.84       783\n",
      "           4       0.84      0.71      0.77       591\n",
      "           5       0.97      0.59      0.74       595\n",
      "           6       0.99      0.74      0.85       516\n",
      "           7       0.11      0.68      0.19       134\n",
      "           8       1.00      0.57      0.72       583\n",
      "           9       0.95      0.44      0.60       573\n",
      "          10       0.68      0.81      0.74      4796\n",
      "\n",
      "    accuracy                           0.72     10047\n",
      "   macro avg       0.84      0.65      0.69     10047\n",
      "weighted avg       0.80      0.72      0.74     10047\n",
      "\n"
     ]
    }
   ],
   "source": [
    "# Classification report of SEEN categories\n",
    "print(classification_report(bi_y,bi_pred))"
   ]
  },
  {
   "cell_type": "code",
   "execution_count": 102,
   "metadata": {},
   "outputs": [
    {
     "name": "stdout",
     "output_type": "stream",
     "text": [
      "0.7278789688464218\n"
     ]
    }
   ],
   "source": [
    "# Binary seen/unseen evaluation\n",
    "bi_y[bi_y < 10] = 0\n",
    "bi_y[bi_y >= 10] = 1\n",
    "bi_pred[bi_pred < 10] = 0\n",
    "bi_pred[bi_pred >= 10] =1\n",
    "\n",
    "print(accuracy_score(bi_y,bi_pred))"
   ]
  },
  {
   "cell_type": "code",
   "execution_count": 103,
   "metadata": {},
   "outputs": [
    {
     "name": "stdout",
     "output_type": "stream",
     "text": [
      "              precision    recall  f1-score   support\n",
      "\n",
      "           0       0.79      0.66      0.72      5251\n",
      "           1       0.68      0.81      0.74      4796\n",
      "\n",
      "    accuracy                           0.73     10047\n",
      "   macro avg       0.73      0.73      0.73     10047\n",
      "weighted avg       0.74      0.73      0.73     10047\n",
      "\n"
     ]
    }
   ],
   "source": [
    "print(classification_report(bi_y,bi_pred))"
   ]
  },
  {
   "cell_type": "code",
   "execution_count": 104,
   "metadata": {},
   "outputs": [
    {
     "name": "stdout",
     "output_type": "stream",
     "text": [
      "[[0.65720815 0.34279185]\n",
      " [0.19474562 0.80525438]]\n"
     ]
    }
   ],
   "source": [
    "cm = confusion_matrix(bi_y, bi_pred)\n",
    "cm = cm.astype('float') / cm.sum(axis=1)[:, np.newaxis]\n",
    "print(cm)"
   ]
  },
  {
   "cell_type": "code",
   "execution_count": null,
   "metadata": {},
   "outputs": [],
   "source": []
  },
  {
   "cell_type": "code",
   "execution_count": 105,
   "metadata": {},
   "outputs": [],
   "source": [
    "high_conf_xt = Xt[high_conf_inds]\n",
    "high_conf_yt = Yt[high_conf_inds]\n",
    "high_conf_yt_pred = yt_pred.cpu().numpy()[high_conf_inds]\n",
    "high_conf_yt_prob = yt_prob.cpu().numpy()[high_conf_inds]"
   ]
  },
  {
   "cell_type": "markdown",
   "metadata": {},
   "source": [
    "## (2) Cluster low confident samples into 7 clusters"
   ]
  },
  {
   "cell_type": "code",
   "execution_count": 108,
   "metadata": {},
   "outputs": [],
   "source": [
    "low_conf_xt = Xt[low_conf_inds]\n",
    "low_conf_yt = Yt[low_conf_inds]"
   ]
  },
  {
   "cell_type": "code",
   "execution_count": 109,
   "metadata": {},
   "outputs": [],
   "source": [
    "Knew = 7  \n",
    "# We directly use the number of unseen classes as the clustering center number. \n",
    "# Optimal clustering parameters searching functions is applicable."
   ]
  },
  {
   "cell_type": "code",
   "execution_count": 110,
   "metadata": {},
   "outputs": [],
   "source": [
    "kmeans = KMeans(n_clusters=Knew, random_state=0).fit(low_conf_xt)"
   ]
  },
  {
   "cell_type": "code",
   "execution_count": 111,
   "metadata": {},
   "outputs": [],
   "source": [
    "new7_cents = kmeans.cluster_centers_"
   ]
  },
  {
   "cell_type": "code",
   "execution_count": 114,
   "metadata": {
    "scrolled": true
   },
   "outputs": [
    {
     "name": "stdout",
     "output_type": "stream",
     "text": [
      "[ 0  1  2  3  4  5  6  8  9 10 11 12 13 15 16] [  1  36   1 123  16  74  49   1  32   3   1 608   4   8   6]\n",
      " Cluter:  0  has most class labes:  12  with # samples:  608  out of cluster size:  963\n",
      "------------------------------------------------\n",
      "[ 2  6 10 11 15 16] [  1   6   1   4 563   4]\n",
      " Cluter:  1  has most class labes:  15  with # samples:  563  out of cluster size:  579\n",
      "------------------------------------------------\n",
      "[ 0  6  7  8  9 10 11 13 14 15] [ 25   7   4  24  13   5 623   2 110   3]\n",
      " Cluter:  2  has most class labes:  11  with # samples:  623  out of cluster size:  816\n",
      "------------------------------------------------\n",
      "[ 4  5 16] [  1   3 525]\n",
      " Cluter:  3  has most class labes:  16  with # samples:  525  out of cluster size:  529\n",
      "------------------------------------------------\n",
      "[ 0  1  2  3  4  5  6  7  8  9 10 11 12 13 14 15 16] [ 10  60  35  47  35  19  15  22 175 189  60  13  18  16   2   3  35]\n",
      " Cluter:  4  has most class labes:  9  with # samples:  189  out of cluster size:  754\n",
      "------------------------------------------------\n",
      "[ 0  1  3  4  5  6  8  9 10 11 13 16] [  1  75   3   6  49   9   2  17   1   1 674   2]\n",
      " Cluter:  5  has most class labes:  13  with # samples:  674  out of cluster size:  840\n",
      "------------------------------------------------\n",
      "[ 0  1  2  3  4  5  6  7  8  9 10 11 12 13 14 15 16] [164  33  26  19 115  81  46  17  49  64 377  17  11  30 106  12  14]\n",
      " Cluter:  6  has most class labes:  10  with # samples:  377  out of cluster size:  1181\n",
      "------------------------------------------------\n"
     ]
    }
   ],
   "source": [
    "for i in range(Knew):\n",
    "    inds = kmeans.labels_ == i\n",
    "    lbl, count = np.unique(low_conf_yt[inds], return_counts=True)\n",
    "    #\n",
    "    maxCnt = np.max(count)\n",
    "    maxLb = lbl[np.argmax(count)]\n",
    "    print(lbl, count)\n",
    "    print(\" Cluter: \", i, \" has most class labes: \", maxLb, \" with # samples: \", maxCnt, \" out of cluster size: \", len(low_conf_yt[inds]))\n",
    "    print(\"------------------------------------------------\")"
   ]
  },
  {
   "cell_type": "code",
   "execution_count": 126,
   "metadata": {},
   "outputs": [],
   "source": [
    "# by comparing the new cluster centers with ground-truth target class centers\n",
    "# we can see the relationships/quality of the found new clustering results\n",
    "ct = torch.Tensor(Prot_Xt).type(FloatTensor)\n",
    "new_c =torch.Tensor(new7_cents).type(FloatTensor)\n",
    "new_c_prob_all, new_c_prob, new_c_pred = classify(new_c, ct, dist='cosine', T=1)"
   ]
  },
  {
   "cell_type": "code",
   "execution_count": 127,
   "metadata": {},
   "outputs": [
    {
     "data": {
      "text/plain": [
       "tensor([12, 15, 11, 16,  9, 13, 10], device='cuda:0')"
      ]
     },
     "execution_count": 127,
     "metadata": {},
     "output_type": "execute_result"
    }
   ],
   "source": [
    "new_c_pred"
   ]
  },
  {
   "cell_type": "markdown",
   "metadata": {},
   "source": [
    "## (3)  Combine all centers and classify to assign pseudo labels/attributes"
   ]
  },
  {
   "cell_type": "code",
   "execution_count": 132,
   "metadata": {},
   "outputs": [],
   "source": [
    "# Update the centers with the target samples\n",
    "new10_center = np.zeros((10, 2048))\n",
    "cnt = np.zeros(10)\n",
    "for i in range(len(high_conf_xt)):\n",
    "    xi = high_conf_xt[i]\n",
    "    yi_pred = high_conf_yt_pred[i].item()\n",
    "    yi_prob = high_conf_yt_prob[i].item()\n",
    "    new10_center[yi_pred,:] += xi\n",
    "    cnt[yi_pred] += yi_prob\n",
    "for j in range(10):\n",
    "    if cnt[j] == 0:\n",
    "        cnt[j] += 1\n",
    "        new10_center[j,:] = Prot_Xs[j,:]\n",
    "new10_cents = new10_center / cnt.reshape(-1,1)"
   ]
  },
  {
   "cell_type": "code",
   "execution_count": 134,
   "metadata": {},
   "outputs": [],
   "source": [
    "# Combine high confidence seen class centers + low confidence samples clustering centers\n",
    "new_centers = np.concatenate([new10_cents, new7_cents], axis=0)"
   ]
  },
  {
   "cell_type": "code",
   "execution_count": 135,
   "metadata": {},
   "outputs": [
    {
     "data": {
      "text/plain": [
       "False"
      ]
     },
     "execution_count": 135,
     "metadata": {},
     "output_type": "execute_result"
    }
   ],
   "source": [
    "np.isnan(new_centers).any()"
   ]
  },
  {
   "cell_type": "code",
   "execution_count": null,
   "metadata": {},
   "outputs": [],
   "source": []
  },
  {
   "cell_type": "code",
   "execution_count": 136,
   "metadata": {},
   "outputs": [],
   "source": [
    "# Predict pseudo labels of all target samples\n",
    "cnew = torch.Tensor(new_centers).type(FloatTensor)\n",
    "z =torch.Tensor(Xt).type(FloatTensor)\n",
    "t_prob, yt_prob, yt_pred = classify(z, cnew, dist='cosine', T=1)"
   ]
  },
  {
   "cell_type": "code",
   "execution_count": 137,
   "metadata": {},
   "outputs": [
    {
     "data": {
      "text/plain": [
       "<BarContainer object of 17 artists>"
      ]
     },
     "execution_count": 137,
     "metadata": {},
     "output_type": "execute_result"
    },
    {
     "data": {
      "image/png": "[encoded data removed]",
      "text/plain": [
       "<Figure size 432x288 with 1 Axes>"
      ]
     },
     "metadata": {
      "needs_background": "light"
     },
     "output_type": "display_data"
    }
   ],
   "source": [
    "x,h = np.unique(yt_pred.cpu().numpy(), return_counts=True)\n",
    "plt.bar(x,h)"
   ]
  },
  {
   "cell_type": "code",
   "execution_count": 147,
   "metadata": {},
   "outputs": [],
   "source": [
    "bi_y = np.copy(Yt)\n",
    "bi_y[bi_y >= 10] = 10\n",
    "bi_pred = yt_pred.cpu().numpy()\n",
    "bi_pred[bi_pred >= 10] = 10"
   ]
  },
  {
   "cell_type": "code",
   "execution_count": 148,
   "metadata": {},
   "outputs": [
    {
     "name": "stdout",
     "output_type": "stream",
     "text": [
      "0.7722338602171015\n"
     ]
    }
   ],
   "source": [
    "print(accuracy_score(bi_y[bi_y < 10],bi_pred[bi_y < 10] ))"
   ]
  },
  {
   "cell_type": "code",
   "execution_count": 149,
   "metadata": {},
   "outputs": [
    {
     "name": "stdout",
     "output_type": "stream",
     "text": [
      "0.7829441201000834\n"
     ]
    }
   ],
   "source": [
    "print(accuracy_score(bi_y[bi_y >= 10],bi_pred[bi_y >= 10] ))"
   ]
  },
  {
   "cell_type": "code",
   "execution_count": 150,
   "metadata": {
    "scrolled": true
   },
   "outputs": [
    {
     "name": "stdout",
     "output_type": "stream",
     "text": [
      "              precision    recall  f1-score   support\n",
      "\n",
      "           0       0.84      0.81      0.83       360\n",
      "           1       0.89      0.73      0.80       537\n",
      "           2       0.98      0.93      0.95       579\n",
      "           3       0.99      0.81      0.89       783\n",
      "           4       0.97      0.84      0.90       591\n",
      "           5       0.94      0.80      0.86       595\n",
      "           6       0.98      0.88      0.93       516\n",
      "           7       0.08      0.61      0.14       134\n",
      "           8       0.99      0.65      0.79       583\n",
      "           9       0.95      0.54      0.69       573\n",
      "          10       0.77      0.78      0.78      4796\n",
      "\n",
      "    accuracy                           0.78     10047\n",
      "   macro avg       0.85      0.76      0.78     10047\n",
      "weighted avg       0.86      0.78      0.81     10047\n",
      "\n"
     ]
    }
   ],
   "source": [
    "print(classification_report(bi_y,bi_pred))"
   ]
  },
  {
   "cell_type": "code",
   "execution_count": 151,
   "metadata": {},
   "outputs": [
    {
     "name": "stdout",
     "output_type": "stream",
     "text": [
      "0.7866029660595203\n"
     ]
    }
   ],
   "source": [
    "bi_y[bi_y < 10] = 0\n",
    "bi_y[bi_y >= 10] = 1\n",
    "bi_pred[bi_pred < 10] = 0\n",
    "bi_pred[bi_pred >= 10] =1\n",
    "\n",
    "print(accuracy_score(bi_y,bi_pred))"
   ]
  },
  {
   "cell_type": "code",
   "execution_count": 152,
   "metadata": {},
   "outputs": [
    {
     "name": "stdout",
     "output_type": "stream",
     "text": [
      "              precision    recall  f1-score   support\n",
      "\n",
      "           0       0.80      0.79      0.79      5251\n",
      "           1       0.77      0.78      0.78      4796\n",
      "\n",
      "    accuracy                           0.79     10047\n",
      "   macro avg       0.79      0.79      0.79     10047\n",
      "weighted avg       0.79      0.79      0.79     10047\n",
      "\n"
     ]
    }
   ],
   "source": [
    "print(classification_report(bi_y,bi_pred))"
   ]
  },
  {
   "cell_type": "code",
   "execution_count": 153,
   "metadata": {},
   "outputs": [
    {
     "name": "stdout",
     "output_type": "stream",
     "text": [
      "[[0.78994477 0.21005523]\n",
      " [0.21705588 0.78294412]]\n"
     ]
    }
   ],
   "source": [
    "cm = confusion_matrix(bi_y, bi_pred)\n",
    "cm = cm.astype('float') / cm.sum(axis=1)[:, np.newaxis]\n",
    "print(cm)"
   ]
  },
  {
   "cell_type": "markdown",
   "metadata": {},
   "source": [
    "## (4) Save the class/cluster centers & Pseudo labels"
   ]
  },
  {
   "cell_type": "code",
   "execution_count": 56,
   "metadata": {},
   "outputs": [],
   "source": [
    "center_name = './'+src+'2'+tgt+'_sample_xt_clu_cents17.csv'\n",
    "pd.DataFrame(new_centers).to_csv(center_name, index=False)\n",
    "pseudo_name = './'+src+'2'+tgt+'_sample_pseudo.csv'\n",
    "pd.DataFrame(yt_pred.cpu().numpy()).to_csv(pseudo_name, index=None)"
   ]
  },
  {
   "cell_type": "code",
   "execution_count": null,
   "metadata": {},
   "outputs": [],
   "source": []
  },
  {
   "cell_type": "code",
   "execution_count": null,
   "metadata": {},
   "outputs": [],
   "source": []
  },
  {
   "cell_type": "code",
   "execution_count": null,
   "metadata": {},
   "outputs": [],
   "source": []
  }
 ],
 "metadata": {
  "kernelspec": {
   "display_name": "Python 3",
   "language": "python",
   "name": "python3"
  },
  "language_info": {
   "codemirror_mode": {
    "name": "ipython",
    "version": 3
   },
   "file_extension": ".py",
   "mimetype": "text/x-python",
   "name": "python",
   "nbconvert_exporter": "python",
   "pygments_lexer": "ipython3",
   "version": "3.8.8"
  }
 },
 "nbformat": 4,
 "nbformat_minor": 2
}
